{
 "cells": [
  {
   "cell_type": "markdown",
   "metadata": {},
   "source": [
    "# Week 1"
   ]
  },
  {
   "cell_type": "markdown",
   "metadata": {},
   "source": [
    "\n",
    "\n",
    "- Machine learning grew out of work in Artifical Intelligence.\n",
    "- There are a few basic problems people can program a computer to do, such as finding the shortest path between point A and B.\n",
    "- More complex problems cannot be solved by explicitly telling a computer what to do, this is where machine learning comes into play. Machine learning was developed as a new capability for computers to solve.\n",
    "- Machine learning touches a broad breath of problems, from autonomous robotics to computational biology.\n",
    "\n",
    "## Examples\n",
    "- Database mining\n",
    "    1. Large datasets have been created from the growth of automation and the internet.\n",
    "    E.g., Web click data, medical records, biology and engineering.\n",
    "    2. Applications that cannot be 'programmed by hand.'\n",
    "    E.g., Autonomous helicopter, handwriting recognition, most of natural language processing (NLP), and computer vision (self-driving cars)\n",
    "    3. Self-customizing programs\n",
    "    E.g., Amazon, Netflix product recommendations\n",
    "    4. Understanding human learning(brain, real AI).\n"
   ]
  },
  {
   "cell_type": "markdown",
   "metadata": {},
   "source": [
    "## What is machine learning?\n",
    "\n",
    "There are a few floating definitions of what machine learning is.\n",
    "\n",
    "1. As early as 1959, Arthur Samuel defined machine learning as the field of study that gives computers the ability to learn without being explicitly programmed. A computer algorithm can have the 'patience' and scalability to learn from 10,000s of games.\n",
    "2. Tom Mitchel (1999) defined a well-poised learning problem as when a computer program is said to learn from experience E with respect to some task T and some performance measure P, if its performance on T as measured by P improves with experience E. \n",
    "\n",
    "Below is an example of a learning problem where E, T and P are labelled appropriately.\n",
    "\n",
    "![title](img/image_1.png)"
   ]
  },
  {
   "cell_type": "markdown",
   "metadata": {},
   "source": [
    "## Types of Machine learning algorithms\n",
    "\n",
    "1. Supervised learning\n",
    "   The computer is provided data with labels from which it learns from.\n",
    "\n",
    "2. Unsupervised learning\n",
    "   Unlabelled data the computer \n",
    "\n",
    "3. Reinforced learning\n",
    "\n",
    "4. Recommender systems\n",
    "\n",
    "Supervised and unsupervised learning algorithms are the most commonly used.\n",
    "\n",
    "This course will focus on teaching practical advice for applying learning algorithms."
   ]
  },
  {
   "cell_type": "markdown",
   "metadata": {},
   "source": [
    "## Supervised learning\n",
    "Supervised learning is probably the most common type of machine learning. Learning from a housing dataset to predict prices is one such exmaple.\n",
    "\n",
    "Based on housing data, a learning algorithm may be able to fit a straight line or quandratic function to capture the behaviour of the house prices with respect to some feature.\n",
    "\n",
    "![title](img/image_2.png)\n",
    "\n",
    "This is a supervised learning problem because the 'right answer' has been provided. More specific, since the predictor variable is a continous variable, this is called a regression problem. \n",
    "\n",
    "Another example of a supervised learning problem may be classifying a tumour as malignant or benign. Since the predictor variable in this instance is a disecrete value (0 or 1), this is not a regression problem but a classification problem.\n",
    "\n",
    "![title](img/image_3.png)\n",
    "\n",
    "So far these examples have only observed 1 variable in isolated to predict something. However, multiple variables may also be used.\n",
    "\n",
    "In the example of cancer, age and tumour size may be used to classify a tumour as benign or malignant.\n",
    "\n",
    "![title](img/image_4.png)\n",
    "\n",
    "Furthermore, for learning algorithms it is often useful to be able to use an infinite amount of futures.\n",
    "\n",
    "This raises the question: how do you employ an 'infinite' amount of features on a computer considering the limitations of memory. How do you deal with this?\n",
    "\n",
    "It turns out there is a algorithm called a support vector machine that exploits a mathematical 'trick' that allows a computer to deal with an infinite amount of features. \n",
    "\n",
    "![title](img/image_5.png)\n"
   ]
  },
  {
   "cell_type": "markdown",
   "metadata": {},
   "source": [
    "## Unsupervised learning\n",
    "\n",
    "As opposed to supervised learning problems, where the 'correct label' is provided, in unsupervised learning data is characterised as having no labels. Instead, the agenda is to find structure in the data.\n",
    "\n",
    "![title](img/image_6.png)\n",
    "\n",
    "For example, google news uses clustering algorithms to arrange different news stories into different 'buckets.'\n",
    "\n",
    "![title](img/image_7.png)\n",
    "\n",
    "Other examples may be found in genomics, on DNA micro-array data, numerous individuals can be compared to identify which genes are commonly expressed.\n",
    "\n",
    "![title](img/image_8.png)\n",
    "\n",
    "In these examples, the learning algorithms automatically find structure in the data without being provided labels. \n",
    "\n",
    "Others include:\n",
    "\n",
    "![title](img/image_9.png)\n",
    "\n",
    "Clustering is just one type of a supervised learning algorithm.\n",
    "\n",
    "### Coctail Party Problem\n",
    "Multiple microphones used to record the same input, but are located at differing distances from the recording source. Each microphone will record an overlaping combination of both speakers voices.\n",
    "\n",
    "![title](img/image_10.png)\n",
    "\n",
    "These two recordings can be taken and provided to a the 'cocktail party algorithm,' this algorithm will find structure in the recordings. Morever, it will separate out these two recordings from the overalp.\n",
    "\n",
    "This may be used to separate instrumentals from vocals. On the surface, this type of problem seems extremely complicated when considering the audio processing. In actuality, this can be implemented in 1 line of code:\n",
    "\n",
    "![title](img/image_11.png)\n",
    "\n",
    "This can be implemented in numerous languages, however, in Andrew's experience it is much easier to use Octave/Matlab if you want to focus on learning the algorithm. Once this has been done, this can be migrated to a scalable programming solution. In simple, use Octave/Matlab for prototyping.\n",
    "\n",
    "![title](img/image_12.png)\n",
    "\n",
    "![title](img/image_13.png)\n",
    "\n"
   ]
  },
  {
   "cell_type": "markdown",
   "metadata": {},
   "source": [
    "## Model and Cost Function\n",
    "\n",
    "### Model Representation\n",
    "\n",
    "How do we represent models?\n",
    "![title](img/image_14.png)\n",
    "\n",
    "In the above diagram, h denotes the model function that is input the training set and outputs the predicted y variable. For historical reasons h means hypothesis."
   ]
  },
  {
   "cell_type": "markdown",
   "metadata": {},
   "source": [
    "### Cost Function\n",
    "\n",
    "![title](img/image_15.png)"
   ]
  },
  {
   "cell_type": "markdown",
   "metadata": {},
   "source": [
    "When building a learning algorithm, the goal is to reduce the size of the difference between the hypothesized y value and the actual y value. \n",
    "\n",
    "\n",
    "![title](img/image_16.png)\n",
    "\n",
    "To faciliate easier mathematics, the above is multipled by half.\n",
    "\n",
    "![title](img/image_17.png)"
   ]
  },
  {
   "cell_type": "markdown",
   "metadata": {
    "collapsed": true
   },
   "source": [
    "The cost function above can be used to measure the accuracy of the hypothesis. This function is also appropriately named the 'squared error function' or 'mean squared error\n"
   ]
  },
  {
   "cell_type": "markdown",
   "metadata": {},
   "source": [
    "In summary, given a training set of m observations, different linear lines have been used to iluminate which value of theta 1 has the lowest mean squared error.\n",
    "\n",
    "![title](img/image_18.png)\n",
    "\n",
    "If we were to introduce a constant to the hypothesis function. The cost function would have a similar pattern:\n",
    "\n",
    "![title](img/image_19.png)\n",
    "\n",
    "This is called a countour plot or figure.\n",
    "\n",
    "It may also be observed in a 2-dimensional space:\n",
    "\n",
    "![title](img/image_20.png)"
   ]
  },
  {
   "cell_type": "markdown",
   "metadata": {},
   "source": [
    "The hypothesis function (800 + -0.15x observed relates to one circle on the cost function of J. This hypothesis is not a good fit to the data (it has a high cost).\n",
    "\n"
   ]
  },
  {
   "cell_type": "markdown",
   "metadata": {},
   "source": [
    "A more appropriate hypothesis function (one with different values of theta 0 and 1), on a whole will have a lower cost.\n",
    "\n",
    "![title](img/image_21.png)\n",
    "\n",
    "Ultimately, we are seeking an algorithm that will be able to find the hypothesis function that minimizes the cost function J. This algorithm is called garident decent and has several applications. It can more generally be applied to theta i variables.\n"
   ]
  },
  {
   "cell_type": "markdown",
   "metadata": {},
   "source": [
    "### Gradient Descent\n",
    "\n",
    "The process of gradient descent is as follows:\n",
    "![title](img/image_22.png)"
   ]
  },
  {
   "cell_type": "markdown",
   "metadata": {},
   "source": [
    "Upon initalizing at some point, the next step is to attempt to move in a direction that descends. This is visualized in the plot below:\n",
    "\n",
    "![title](img/image_23.png)\n",
    "\n",
    "An interesting aspect of gradient descent, is there multiple final points to 'descend' to depending on where you initalize or start. For example\n",
    "\n",
    "\n",
    "![title](img/image_24.png)\n",
    "\n",
    "OR\n",
    "\n",
    "![title](img/image_25.png)\n",
    "\n",
    "### Gradient Descent Algorithm\n",
    "\n",
    "The gradient descent algorithm has several aspects to it\n",
    "\n",
    "![title](img/image_26.png)\n",
    "\n",
    "Importantly, it is important to simulatenously update the new values of theta 0 and 1.\n",
    "\n",
    "How does gradient descent work?\n",
    "\n",
    "![title](img/image_27.png)"
   ]
  },
  {
   "cell_type": "code",
   "execution_count": null,
   "metadata": {
    "collapsed": true
   },
   "outputs": [],
   "source": []
  }
 ],
 "metadata": {
  "kernelspec": {
   "display_name": "Python 3",
   "language": "python",
   "name": "python3"
  },
  "language_info": {
   "codemirror_mode": {
    "name": "ipython",
    "version": 3
   },
   "file_extension": ".py",
   "mimetype": "text/x-python",
   "name": "python",
   "nbconvert_exporter": "python",
   "pygments_lexer": "ipython3",
   "version": "3.5.2"
  }
 },
 "nbformat": 4,
 "nbformat_minor": 1
}
