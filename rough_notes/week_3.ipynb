{
 "cells": [
  {
   "cell_type": "markdown",
   "metadata": {},
   "source": [
    "# Week 3"
   ]
  },
  {
   "cell_type": "markdown",
   "metadata": {},
   "source": [
    "## Classifiction\n",
    "\n",
    "Classification is used to predict discrete values.\n",
    "\n",
    "Examples include:\n",
    "- Email: Spam/spam\n",
    "- Online transactions: Frandaulent (Yes/No)\n",
    "- Tumor: Malignant/Benign\n",
    "\n",
    "There is multiclass and binary class classification.\n",
    "\n",
    "![title](img/image_68.png)\n",
    "\n",
    "You could use linear regression to predict 1 or 0, but this has its shortcomings.\n",
    "\n",
    "\n",
    "![title](img/image_69.png)\n",
    "\n",
    "Outliers can create issues with this approach.\n",
    "\n",
    "![title](img/image_70.png)\n",
    "\n",
    "Applying linear regression to a classification problem is not a good idea.\n",
    "\n",
    "Moreover, if you provide a training set with only values 0 and 1, the hypothesis function may output values greater than 1 or less than 0.\n",
    "\n",
    "![title](img/image_71.png)\n",
    "\n",
    "This seems odd.\n",
    "\n",
    "![title](img/image_72.png)\n",
    "\n",
    "\n",
    "This is why we use logistic regression, where y is constrained to be between 0 and 1:\n",
    "![title](img/image_73.png)\n"
   ]
  },
  {
   "cell_type": "markdown",
   "metadata": {},
   "source": [
    "## Hypothesis Representation for Logistic Regression\n",
    "\n",
    "The logistic regression function takes the form of:\n",
    "\n",
    "![title](img/image_74.png)\n",
    "\n",
    "### Interpretation of Hypothesis Output\n",
    "\n",
    "Hypothesis function outputs the estimated probability that the input x is = 1.\n",
    "\n",
    "![title](img/image_75.png)\n",
    "\n",
    "![title](img/image_76.png)\n"
   ]
  },
  {
   "cell_type": "markdown",
   "metadata": {},
   "source": [
    "## Decision boundary\n",
    "\n",
    "\n",
    "![title](img/image_77.png)\n",
    "\n",
    "![title](img/image_78.png)\n",
    "\n",
    "![title](img/image_79.png)\n",
    "\n",
    "## Non-linear decision boundaries\n",
    "\n",
    "![title](img/image_80.png)\n",
    "\n",
    "## More complex decision boundaries\n",
    "\n",
    "![title](img/image_81.png)\n",
    "\n",
    "\n",
    "## Cost function for logistic regression"
   ]
  },
  {
   "cell_type": "code",
   "execution_count": null,
   "metadata": {
    "collapsed": true
   },
   "outputs": [],
   "source": []
  }
 ],
 "metadata": {
  "kernelspec": {
   "display_name": "Python 3",
   "language": "python",
   "name": "python3"
  }
 },
 "nbformat": 4,
 "nbformat_minor": 1
}
