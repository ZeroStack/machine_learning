{
 "cells": [
  {
   "cell_type": "markdown",
   "metadata": {},
   "source": [
    "# Week 2\n"
   ]
  },
  {
   "cell_type": "markdown",
   "metadata": {},
   "source": [
    "## Multivariate linear regression\n",
    "\n",
    "Last week we looked at linear regression with 1 variable. We will now investiage the idea of using more variables.\n",
    "\n",
    "This requires a new notation \n",
    "\n",
    "![title](img/image_49.png)\n",
    "\n",
    "This also means the hypothesis function needs to be expanded to accommodate for more predictor variables\n",
    "\n",
    "![title](img/image_50.png)\n",
    "\n",
    "It is possible to represent all these values in the form of matrices.\n",
    "\n",
    "![title](img/image_51.png)\n",
    "\n",
    "\n",
    "![title](img/image_52.png)"
   ]
  },
  {
   "cell_type": "markdown",
   "metadata": {},
   "source": [
    "## Feature Scaling\n",
    "\n",
    "The scale/ranges of the predictor variables matters when it comes to implementing gradient descent. Especially if the variables do not share a similar scale\n",
    "\n",
    "If features are on the same scale, by dividing each vector by the max, gradient descent will have an easier time reaching the local minimum. The scales effect the contour of the plots.\n",
    "\n",
    "![title](img/image_53.png)"
   ]
  },
  {
   "cell_type": "markdown",
   "metadata": {},
   "source": [
    "This raises an internal question, does scaling the features have any effect on the accuracy of the hypothesis function?\n",
    "\n",
    "![title](img/image_54.png)\n",
    "\n"
   ]
  },
  {
   "cell_type": "markdown",
   "metadata": {
    "collapsed": true
   },
   "source": [
    "## Mean normalization\n",
    "\n",
    "As opposed to dividing by the max value, another approach to scaling is called mean normalization. THis is when the original value is replaced by x(observation) - mean and then divided by the standard deviation\n",
    "\n",
    "![title](img/image_55.png)"
   ]
  },
  {
   "cell_type": "code",
   "execution_count": null,
   "metadata": {
    "collapsed": true
   },
   "outputs": [],
   "source": []
  }
 ],
 "metadata": {
  "kernelspec": {
   "display_name": "Python 3",
   "language": "python",
   "name": "python3"
  },
  "language_info": {
   "codemirror_mode": {
    "name": "ipython",
    "version": 3
   },
   "file_extension": ".py",
   "mimetype": "text/x-python",
   "name": "python",
   "nbconvert_exporter": "python",
   "pygments_lexer": "ipython3",
   "version": "3.5.2"
  }
 },
 "nbformat": 4,
 "nbformat_minor": 1
}
